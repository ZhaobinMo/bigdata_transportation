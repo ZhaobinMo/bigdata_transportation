{
 "cells": [
  {
   "cell_type": "markdown",
   "metadata": {
    "slideshow": {
     "slide_type": "notes"
    }
   },
   "source": [
    "## 1st class\n",
    "1. Installation\n",
    "2. Basic usage\n",
    "  - data type \n",
    "  - int, float, string, typeof()\n",
    "  - usage of string\n",
    "  - list and its usage\n",
    "3. Read data (Padas DataFrame)\n",
    "4. Matplotlib\n",
    "  - structure of the fig: axes, fig, tick, ticklabel\n",
    "\n",
    "## 2nd class\n",
    "1. Function\n",
    "2. shapefile\n",
    "3. **Detail about pandas**\n",
    "4. Api\n",
    "  - google, sodapy (json)\n",
    "  - use request and url to access data"
   ]
  },
  {
   "cell_type": "markdown",
   "metadata": {
    "slideshow": {
     "slide_type": "slide"
    }
   },
   "source": [
    "# Tutorial about use of python\n",
    "## 02/06/2019"
   ]
  },
  {
   "cell_type": "markdown",
   "metadata": {
    "slideshow": {
     "slide_type": "slide"
    }
   },
   "source": [
    "# Topics\n",
    "1. Installation and basic useage\n",
    "2. Obtain data source\n",
    "3. Data visualization\n",
    "4. Useful tools (Google Distance Matrix API)"
   ]
  },
  {
   "cell_type": "markdown",
   "metadata": {
    "slideshow": {
     "slide_type": "slide"
    }
   },
   "source": [
    "# Installation\n",
    "<center>\n",
    "<img src=\"anaconda.png\" width = \"1000px\">\n",
    "</center>"
   ]
  },
  {
   "cell_type": "markdown",
   "metadata": {
    "slideshow": {
     "slide_type": "slide"
    }
   },
   "source": [
    "# Installation\n",
    "<center>\n",
    "<img src=\"anaconda_2.png\" width = \"80%\">\n",
    "</center>"
   ]
  },
  {
   "cell_type": "markdown",
   "metadata": {
    "slideshow": {
     "slide_type": "slide"
    }
   },
   "source": [
    "# Installation\n",
    "<center>\n",
    "<img src=\"anaconda_3.png\" width = \"50%\">\n",
    "</center>"
   ]
  },
  {
   "cell_type": "markdown",
   "metadata": {
    "slideshow": {
     "slide_type": "slide"
    }
   },
   "source": [
    "# Installation\n",
    "<center>\n",
    "<img src=\"ex_jupyter.png\" width = \"50%\">\n",
    "</center>"
   ]
  },
  {
   "cell_type": "markdown",
   "metadata": {
    "slideshow": {
     "slide_type": "slide"
    }
   },
   "source": [
    "# Basic Usage\n",
    "- Hello World"
   ]
  },
  {
   "cell_type": "markdown",
   "metadata": {},
   "source": [
    "  - using the command line\n",
    "  - run a script\n",
    "  - run in the IDE (integral development editor)"
   ]
  },
  {
   "cell_type": "code",
   "execution_count": 6,
   "metadata": {
    "slideshow": {
     "slide_type": "fragment"
    }
   },
   "outputs": [
    {
     "name": "stdout",
     "output_type": "stream",
     "text": [
      "Hello World\n"
     ]
    }
   ],
   "source": [
    "print(\"Hello World\")"
   ]
  },
  {
   "cell_type": "markdown",
   "metadata": {
    "slideshow": {
     "slide_type": "fragment"
    }
   },
   "source": [
    "Some command for IDE\n",
    "- Ctrl+Enter: run the current cell \n",
    "- Shift+Enter: run the current cell, and select the next cell \n",
    "- Alt+Enter: run the current cell, and add an cell below \n",
    "\n",
    "(press esc to enter from the **edit mode** to the **command mode**)\n",
    "- b: insert a cell below\n",
    "- a: insert a cell above\n",
    "- dd: delete the selected cell"
   ]
  },
  {
   "cell_type": "markdown",
   "metadata": {
    "slideshow": {
     "slide_type": "slide"
    }
   },
   "source": [
    "# Basic Usage\n",
    "- Three numeric data type\n",
    "  - **int**\n",
    "  - **float**\n",
    "  - complex"
   ]
  },
  {
   "cell_type": "code",
   "execution_count": 8,
   "metadata": {},
   "outputs": [
    {
     "name": "stdout",
     "output_type": "stream",
     "text": [
      "<class 'int'>\n"
     ]
    }
   ],
   "source": [
    "print(type(a))"
   ]
  },
  {
   "cell_type": "code",
   "execution_count": 7,
   "metadata": {
    "slideshow": {
     "slide_type": "-"
    }
   },
   "outputs": [],
   "source": [
    "a = 1\n",
    "b = 1.1\n",
    "c = 1j"
   ]
  },
  {
   "cell_type": "markdown",
   "metadata": {},
   "source": [
    "Basic Usage\n",
    "- String"
   ]
  },
  {
   "cell_type": "code",
   "execution_count": 12,
   "metadata": {},
   "outputs": [
    {
     "name": "stdout",
     "output_type": "stream",
     "text": [
      "CIEN 4930 is awesome\n"
     ]
    }
   ],
   "source": [
    "s = \"{} {} is awesome\".format(\"CIEN\",\"4930\")\n",
    "print(s)"
   ]
  },
  {
   "cell_type": "markdown",
   "metadata": {
    "slideshow": {
     "slide_type": "slide"
    }
   },
   "source": [
    "# Basic Usage\n",
    "- list"
   ]
  },
  {
   "cell_type": "code",
   "execution_count": 14,
   "metadata": {},
   "outputs": [],
   "source": [
    "l = [1,2,'s',3]"
   ]
  },
  {
   "cell_type": "code",
   "execution_count": 21,
   "metadata": {},
   "outputs": [
    {
     "data": {
      "text/plain": [
       "range(0, 2)"
      ]
     },
     "execution_count": 21,
     "metadata": {},
     "output_type": "execute_result"
    }
   ],
   "source": [
    "range(0,2)"
   ]
  },
  {
   "cell_type": "code",
   "execution_count": 30,
   "metadata": {},
   "outputs": [
    {
     "data": {
      "text/plain": [
       "1"
      ]
     },
     "execution_count": 30,
     "metadata": {},
     "output_type": "execute_result"
    }
   ],
   "source": [
    "# the first element\n",
    "l[0]"
   ]
  },
  {
   "cell_type": "code",
   "execution_count": 33,
   "metadata": {},
   "outputs": [
    {
     "data": {
      "text/plain": [
       "3"
      ]
     },
     "execution_count": 33,
     "metadata": {},
     "output_type": "execute_result"
    }
   ],
   "source": [
    "# last element\n",
    "l[-1]"
   ]
  },
  {
   "cell_type": "markdown",
   "metadata": {},
   "source": [
    "# Basic Usage\n",
    "- 'for' loop"
   ]
  },
  {
   "cell_type": "code",
   "execution_count": 38,
   "metadata": {},
   "outputs": [
    {
     "name": "stdout",
     "output_type": "stream",
     "text": [
      "1\n",
      "2\n",
      "s\n",
      "3\n"
     ]
    }
   ],
   "source": [
    "# print every element in the l\n",
    "n = 0\n",
    "for n in range(0,3+1):\n",
    "    pass\n",
    "#    print(l[n])\n",
    "\n",
    "# a new method\n",
    "for item in l:\n",
    "    print(item)"
   ]
  },
  {
   "cell_type": "markdown",
   "metadata": {},
   "source": [
    "# Basic Usage\n",
    "- if...else"
   ]
  },
  {
   "cell_type": "code",
   "execution_count": 40,
   "metadata": {},
   "outputs": [],
   "source": [
    "a = 1"
   ]
  },
  {
   "cell_type": "code",
   "execution_count": 41,
   "metadata": {},
   "outputs": [
    {
     "name": "stdout",
     "output_type": "stream",
     "text": [
      "0<=a<=1\n"
     ]
    }
   ],
   "source": [
    "if a > 1:\n",
    "    print(\"a>1\")\n",
    "elif a<0:\n",
    "    print(\"a<0\")\n",
    "else:\n",
    "    print(\"0<=a<=1\")"
   ]
  },
  {
   "cell_type": "code",
   "execution_count": null,
   "metadata": {},
   "outputs": [],
   "source": []
  },
  {
   "cell_type": "markdown",
   "metadata": {
    "slideshow": {
     "slide_type": "-"
    }
   },
   "source": [
    "# Basic Usage\n",
    "- ditc"
   ]
  },
  {
   "cell_type": "code",
   "execution_count": 42,
   "metadata": {},
   "outputs": [],
   "source": [
    "l = [18, 19, 20,21]\n",
    "\n",
    "# people's age\n",
    "D = {\"Bob\":l[0],\n",
    "    \"Tim\": l[1],\n",
    "    \"Tom\": l[2],\n",
    "    \"Zoe\": l[3]}"
   ]
  },
  {
   "cell_type": "code",
   "execution_count": 44,
   "metadata": {},
   "outputs": [
    {
     "data": {
      "text/plain": [
       "18"
      ]
     },
     "execution_count": 44,
     "metadata": {},
     "output_type": "execute_result"
    }
   ],
   "source": [
    "D[\"Bob\"]"
   ]
  },
  {
   "cell_type": "markdown",
   "metadata": {
    "slideshow": {
     "slide_type": "slide"
    }
   },
   "source": [
    "# Basic Usage\n",
    "- ditc"
   ]
  },
  {
   "cell_type": "code",
   "execution_count": 29,
   "metadata": {
    "slideshow": {
     "slide_type": "-"
    }
   },
   "outputs": [
    {
     "name": "stdout",
     "output_type": "stream",
     "text": [
      "16\n"
     ]
    }
   ],
   "source": [
    "D = {\"Bob\":16, \n",
    "    \"Tom\":17,\n",
    "    \"Jenny\":38}\n",
    "\n",
    "print(D['Bob'])"
   ]
  },
  {
   "cell_type": "markdown",
   "metadata": {
    "slideshow": {
     "slide_type": "skip"
    }
   },
   "source": [
    "# Load Data\n",
    "- Type of data: txt, excel, csv, json, SQL...\n",
    "<center>\n",
    "<img src=\"ex_csvdata.png\" >\n",
    "</center>"
   ]
  },
  {
   "cell_type": "markdown",
   "metadata": {
    "slideshow": {
     "slide_type": "skip"
    }
   },
   "source": [
    "# Obtain data source\n",
    "- Type of data: txt, excel, csv, json, SQL...\n",
    "<center>\n",
    "<img src=\"ex_ngsim_csv.png\" >\n",
    "</center>"
   ]
  },
  {
   "cell_type": "markdown",
   "metadata": {
    "slideshow": {
     "slide_type": "skip"
    }
   },
   "source": [
    "# Obtain data source\n",
    "- Type of data: txt, excel, csv, json, SQL...\n",
    "<center>\n",
    "<img src=\"ex_ngsim_api.png\" >\n",
    "</center>"
   ]
  },
  {
   "cell_type": "markdown",
   "metadata": {
    "slideshow": {
     "slide_type": "skip"
    }
   },
   "source": [
    "# Obtain data source\n",
    "- Type of data: txt, excel, csv, json, SQL...\n",
    "<center>\n",
    "<img src=\"ex_ngsim_api.png\" >\n",
    "</center>"
   ]
  },
  {
   "cell_type": "markdown",
   "metadata": {
    "slideshow": {
     "slide_type": "skip"
    }
   },
   "source": [
    "# Obtain data source\n",
    "- Type of data: txt, excel, csv, json, SQL...\n",
    "<center>\n",
    "<img src=\"ex_ngsim_json.png\" >\n",
    "</center>"
   ]
  },
  {
   "cell_type": "markdown",
   "metadata": {
    "slideshow": {
     "slide_type": "slide"
    }
   },
   "source": [
    "# Load Data\n",
    "- Type of data: txt, **csv**, json, SQL..."
   ]
  },
  {
   "cell_type": "markdown",
   "metadata": {
    "slideshow": {
     "slide_type": "fragment"
    }
   },
   "source": [
    "- Method for loading data\n",
    "  - pandas"
   ]
  },
  {
   "cell_type": "markdown",
   "metadata": {
    "slideshow": {
     "slide_type": "slide"
    }
   },
   "source": [
    "- Install Pandas\n",
    " - **Install by pip** \n",
    "```console\n",
    "$ pip install pandas\n",
    "```\n",
    "\n",
    "  - Install by conda\n",
    "```console\n",
    "$ conda install pandas\n",
    "```\n",
    " \n"
   ]
  },
  {
   "cell_type": "markdown",
   "metadata": {
    "slideshow": {
     "slide_type": "slide"
    }
   },
   "source": [
    "<center>\n",
    "    <img src=\"result_pip_install_pandas.png\" >\n",
    "</center>"
   ]
  },
  {
   "cell_type": "markdown",
   "metadata": {
    "slideshow": {
     "slide_type": "slide"
    }
   },
   "source": [
    "# Load Data\n",
    "- Use Pandas\n",
    " - read csv file"
   ]
  },
  {
   "cell_type": "code",
   "execution_count": 2,
   "metadata": {
    "slideshow": {
     "slide_type": "notes"
    }
   },
   "outputs": [
    {
     "data": {
      "text/html": [
       "<div>\n",
       "<style scoped>\n",
       "    .dataframe tbody tr th:only-of-type {\n",
       "        vertical-align: middle;\n",
       "    }\n",
       "\n",
       "    .dataframe tbody tr th {\n",
       "        vertical-align: top;\n",
       "    }\n",
       "\n",
       "    .dataframe thead th {\n",
       "        text-align: right;\n",
       "    }\n",
       "</style>\n",
       "<table border=\"1\" class=\"dataframe\">\n",
       "  <thead>\n",
       "    <tr style=\"text-align: right;\">\n",
       "      <th></th>\n",
       "      <th>user_id</th>\n",
       "      <th>car_id</th>\n",
       "    </tr>\n",
       "  </thead>\n",
       "  <tbody>\n",
       "    <tr>\n",
       "      <th>0</th>\n",
       "      <td>9</td>\n",
       "      <td>8</td>\n",
       "    </tr>\n",
       "    <tr>\n",
       "      <th>1</th>\n",
       "      <td>15</td>\n",
       "      <td>398</td>\n",
       "    </tr>\n",
       "    <tr>\n",
       "      <th>2</th>\n",
       "      <td>15</td>\n",
       "      <td>275</td>\n",
       "    </tr>\n",
       "  </tbody>\n",
       "</table>\n",
       "</div>"
      ],
      "text/plain": [
       "   user_id  car_id\n",
       "0        9       8\n",
       "1       15     398\n",
       "2       15     275"
      ]
     },
     "execution_count": 2,
     "metadata": {},
     "output_type": "execute_result"
    }
   ],
   "source": [
    "# import the package\n",
    "# pd: the alias for pandas\n",
    "# os: in-built package \"operate system\"\n",
    "import pandas as pd\n",
    "import os\n",
    "\n",
    "# name the path\n",
    "# 'r' before the path: \n",
    "     # https://stackoverflow.com/questions/33729045/what-does-an-r-represent-before-a-string-in-python\n",
    "DIR_DATA = r\"C:\\Users\\Zhaobin\\Desktop\\Columbia\\courses\\2019 Spring\\bigdata\\python course\\data\"\n",
    "DIR_RESULT = r\"C:\\Users\\Zhaobin\\Desktop\\Columbia\\courses\\2019 Spring\\bigdata\\python course\\result\"\n",
    "\n",
    "# read the data\n",
    "filename = \"user_car.csv\"\n",
    "path_in = DIR_DATA + \"\\\\\" + filename\n",
    "#print(path_in)\n",
    "df = pd.read_csv(path_in)\n",
    "df.head(3)\n"
   ]
  },
  {
   "cell_type": "code",
   "execution_count": 3,
   "metadata": {
    "slideshow": {
     "slide_type": "-"
    }
   },
   "outputs": [],
   "source": [
    "# 1st import the package\n",
    "import pandas as pd"
   ]
  },
  {
   "cell_type": "code",
   "execution_count": 50,
   "metadata": {},
   "outputs": [],
   "source": [
    "# 2nd load the data\n",
    "# df: dataframe (min unit of data\n",
    "# structure)\n",
    "df = pd.read_csv(r'C:\\Users\\Zhaobin\\Desktop\\Columbia\\courses\\2019 Spring\\bigdata\\python course\\display\\test_read_data')"
   ]
  },
  {
   "cell_type": "code",
   "execution_count": 54,
   "metadata": {},
   "outputs": [
    {
     "data": {
      "text/plain": [
       "0    1\n",
       "1    2\n",
       "2    3\n",
       "3    4\n",
       "Name: user_id, dtype: int64"
      ]
     },
     "execution_count": 54,
     "metadata": {},
     "output_type": "execute_result"
    }
   ],
   "source": [
    "# 3rd display the general info.\n",
    "# dataframe(structured data + function)\n",
    "df['user_id']"
   ]
  },
  {
   "cell_type": "markdown",
   "metadata": {},
   "source": [
    "- Use Pandas\n",
    " - read csv file\n",
    " - **dataframe**\n",
    "   - introduction"
   ]
  },
  {
   "cell_type": "code",
   "execution_count": null,
   "metadata": {},
   "outputs": [],
   "source": [
    "# dataframe, series"
   ]
  },
  {
   "cell_type": "markdown",
   "metadata": {
    "slideshow": {
     "slide_type": "notes"
    }
   },
   "source": [
    "- Use Pandas\n",
    " - dataframe\n",
    " - read csv file\n",
    " - **process dataframe**"
   ]
  },
  {
   "cell_type": "code",
   "execution_count": 5,
   "metadata": {
    "slideshow": {
     "slide_type": "notes"
    }
   },
   "outputs": [
    {
     "data": {
      "text/html": [
       "<div>\n",
       "<style scoped>\n",
       "    .dataframe tbody tr th:only-of-type {\n",
       "        vertical-align: middle;\n",
       "    }\n",
       "\n",
       "    .dataframe tbody tr th {\n",
       "        vertical-align: top;\n",
       "    }\n",
       "\n",
       "    .dataframe thead th {\n",
       "        text-align: right;\n",
       "    }\n",
       "</style>\n",
       "<table border=\"1\" class=\"dataframe\">\n",
       "  <thead>\n",
       "    <tr style=\"text-align: right;\">\n",
       "      <th></th>\n",
       "      <th>user_id</th>\n",
       "      <th>car_id</th>\n",
       "    </tr>\n",
       "  </thead>\n",
       "  <tbody>\n",
       "    <tr>\n",
       "      <th>0</th>\n",
       "      <td>9.0</td>\n",
       "      <td>8</td>\n",
       "    </tr>\n",
       "    <tr>\n",
       "      <th>1</th>\n",
       "      <td>15.0</td>\n",
       "      <td>398</td>\n",
       "    </tr>\n",
       "    <tr>\n",
       "      <th>2</th>\n",
       "      <td>15.0</td>\n",
       "      <td>275</td>\n",
       "    </tr>\n",
       "  </tbody>\n",
       "</table>\n",
       "</div>"
      ],
      "text/plain": [
       "   user_id  car_id\n",
       "0      9.0       8\n",
       "1     15.0     398\n",
       "2     15.0     275"
      ]
     },
     "execution_count": 5,
     "metadata": {},
     "output_type": "execute_result"
    }
   ],
   "source": [
    "# change data type\n",
    "df.user_id = df.user_id.astype(float)\n",
    "df.head(3)"
   ]
  },
  {
   "cell_type": "code",
   "execution_count": 18,
   "metadata": {
    "slideshow": {
     "slide_type": "notes"
    }
   },
   "outputs": [
    {
     "data": {
      "text/html": [
       "<div>\n",
       "<style scoped>\n",
       "    .dataframe tbody tr th:only-of-type {\n",
       "        vertical-align: middle;\n",
       "    }\n",
       "\n",
       "    .dataframe tbody tr th {\n",
       "        vertical-align: top;\n",
       "    }\n",
       "\n",
       "    .dataframe thead th {\n",
       "        text-align: right;\n",
       "    }\n",
       "</style>\n",
       "<table border=\"1\" class=\"dataframe\">\n",
       "  <thead>\n",
       "    <tr style=\"text-align: right;\">\n",
       "      <th></th>\n",
       "      <th>user_id</th>\n",
       "      <th>car_id</th>\n",
       "    </tr>\n",
       "  </thead>\n",
       "  <tbody>\n",
       "    <tr>\n",
       "      <th>707</th>\n",
       "      <td>11</td>\n",
       "      <td>3643</td>\n",
       "    </tr>\n",
       "    <tr>\n",
       "      <th>43655</th>\n",
       "      <td>14</td>\n",
       "      <td>493</td>\n",
       "    </tr>\n",
       "    <tr>\n",
       "      <th>43656</th>\n",
       "      <td>14</td>\n",
       "      <td>1179</td>\n",
       "    </tr>\n",
       "    <tr>\n",
       "      <th>45203</th>\n",
       "      <td>14</td>\n",
       "      <td>5537</td>\n",
       "    </tr>\n",
       "    <tr>\n",
       "      <th>45284</th>\n",
       "      <td>14</td>\n",
       "      <td>3683</td>\n",
       "    </tr>\n",
       "  </tbody>\n",
       "</table>\n",
       "</div>"
      ],
      "text/plain": [
       "       user_id  car_id\n",
       "707         11    3643\n",
       "43655       14     493\n",
       "43656       14    1179\n",
       "45203       14    5537\n",
       "45284       14    3683"
      ]
     },
     "execution_count": 18,
     "metadata": {},
     "output_type": "execute_result"
    }
   ],
   "source": [
    "# data sorting\n",
    "#df.user_id = df.user_id.astype(int)\n",
    "#condition = df.user_id <= 10\n",
    "#df_0to10 = df.loc[condition, :]\n",
    "#df_0to10.head()\n",
    "\n",
    "\n",
    "condition_1 = df.user_id >10\n",
    "condition_2 = df.user_id <15\n",
    "df_10to15 = df.loc[condition_1&condition_2, :]\n",
    "df_10to15.head()"
   ]
  },
  {
   "cell_type": "code",
   "execution_count": 15,
   "metadata": {
    "slideshow": {
     "slide_type": "notes"
    }
   },
   "outputs": [
    {
     "data": {
      "text/html": [
       "<div>\n",
       "<style scoped>\n",
       "    .dataframe tbody tr th:only-of-type {\n",
       "        vertical-align: middle;\n",
       "    }\n",
       "\n",
       "    .dataframe tbody tr th {\n",
       "        vertical-align: top;\n",
       "    }\n",
       "\n",
       "    .dataframe thead th {\n",
       "        text-align: right;\n",
       "    }\n",
       "</style>\n",
       "<table border=\"1\" class=\"dataframe\">\n",
       "  <thead>\n",
       "    <tr style=\"text-align: right;\">\n",
       "      <th></th>\n",
       "      <th>user_id</th>\n",
       "      <th>car_id</th>\n",
       "    </tr>\n",
       "  </thead>\n",
       "  <tbody>\n",
       "    <tr>\n",
       "      <th>0</th>\n",
       "      <td>9</td>\n",
       "      <td>8</td>\n",
       "    </tr>\n",
       "    <tr>\n",
       "      <th>69</th>\n",
       "      <td>10</td>\n",
       "      <td>4369</td>\n",
       "    </tr>\n",
       "    <tr>\n",
       "      <th>249</th>\n",
       "      <td>9</td>\n",
       "      <td>653</td>\n",
       "    </tr>\n",
       "    <tr>\n",
       "      <th>451</th>\n",
       "      <td>9</td>\n",
       "      <td>1582</td>\n",
       "    </tr>\n",
       "    <tr>\n",
       "      <th>634</th>\n",
       "      <td>7</td>\n",
       "      <td>10</td>\n",
       "    </tr>\n",
       "  </tbody>\n",
       "</table>\n",
       "</div>"
      ],
      "text/plain": [
       "     user_id  car_id\n",
       "0          9       8\n",
       "69        10    4369\n",
       "249        9     653\n",
       "451        9    1582\n",
       "634        7      10"
      ]
     },
     "execution_count": 15,
     "metadata": {},
     "output_type": "execute_result"
    }
   ],
   "source": [
    "df.user_id = df.user_id.astype(int)\n",
    "condition = df.user_id <= 10\n",
    "df_0to10 = df.loc[condition, :]\n",
    "df_0to10.head()"
   ]
  },
  {
   "cell_type": "markdown",
   "metadata": {},
   "source": [
    "- Use Pandas\n",
    " - read csv file\n",
    " - **dataframe**\n",
    "   - introduction\n",
    "   - create a dataframe"
   ]
  },
  {
   "cell_type": "markdown",
   "metadata": {},
   "source": [
    "- Use Pandas\n",
    " - read csv file\n",
    " - dataframe\n",
    " - export dataframe"
   ]
  },
  {
   "cell_type": "code",
   "execution_count": null,
   "metadata": {},
   "outputs": [],
   "source": []
  },
  {
   "cell_type": "code",
   "execution_count": 28,
   "metadata": {
    "slideshow": {
     "slide_type": "slide"
    }
   },
   "outputs": [],
   "source": [
    "# export the data\n",
    "folder_name = \"ID_small_10\"\n",
    "filename = \"id_small_10.csv\"\n",
    "path_out = DIR_RESULT + \"\\\\\" + folder_name\n",
    "path_out = path_out + \"\\\\\" + foler_name + \"\\\\\" + filename\n",
    "\n",
    "df_0to10.to_csv(path_out, index = False)"
   ]
  },
  {
   "cell_type": "code",
   "execution_count": 1,
   "metadata": {
    "slideshow": {
     "slide_type": "skip"
    }
   },
   "outputs": [
    {
     "ename": "NameError",
     "evalue": "name 'df' is not defined",
     "output_type": "error",
     "traceback": [
      "\u001b[1;31m---------------------------------------------------------------------------\u001b[0m",
      "\u001b[1;31mNameError\u001b[0m                                 Traceback (most recent call last)",
      "\u001b[1;32m<ipython-input-1-5d5fec4a5b1b>\u001b[0m in \u001b[0;36m<module>\u001b[1;34m()\u001b[0m\n\u001b[0;32m     15\u001b[0m     \u001b[1;32mreturn\u001b[0m \u001b[0mdf_out\u001b[0m\u001b[1;33m\u001b[0m\u001b[0m\n\u001b[0;32m     16\u001b[0m \u001b[1;33m\u001b[0m\u001b[0m\n\u001b[1;32m---> 17\u001b[1;33m \u001b[0mdf_small_id\u001b[0m \u001b[1;33m=\u001b[0m \u001b[0mtask_extract_id_region\u001b[0m\u001b[1;33m(\u001b[0m\u001b[0mdf\u001b[0m\u001b[1;33m,\u001b[0m \u001b[1;34m'user_id'\u001b[0m\u001b[1;33m,\u001b[0m\u001b[1;36m1\u001b[0m\u001b[1;33m,\u001b[0m \u001b[1;36m10\u001b[0m\u001b[1;33m)\u001b[0m\u001b[1;33m\u001b[0m\u001b[0m\n\u001b[0m\u001b[0;32m     18\u001b[0m \u001b[0mdf_small_id\u001b[0m\u001b[1;33m.\u001b[0m\u001b[0mhead\u001b[0m\u001b[1;33m(\u001b[0m\u001b[1;33m)\u001b[0m\u001b[1;33m\u001b[0m\u001b[0m\n",
      "\u001b[1;31mNameError\u001b[0m: name 'df' is not defined"
     ]
    }
   ],
   "source": [
    "# use the function\n",
    "def integer_data_type(df, col):\n",
    "    df[col] = df[col].astype(int)\n",
    "    return df\n",
    "\n",
    "def extract_id(df, col, id_lower, id_upper):\n",
    "    condition = (df[col]>=id_lower)&(df[col] <= id_upper)\n",
    "    df = df.loc[condition,:]\n",
    "    return df\n",
    "\n",
    "# assemble\n",
    "def task_extract_id_region(df, col, id_lower, id_upper):\n",
    "    df_out = integer_data_type(df, col)\n",
    "    df_out = extract_id(df, col, id_lower, id_upper)\n",
    "    return df_out\n",
    "\n",
    "df_small_id = task_extract_id_region(df, 'user_id',1, 10)\n",
    "df_small_id.head()"
   ]
  },
  {
   "cell_type": "markdown",
   "metadata": {
    "slideshow": {
     "slide_type": "notes"
    }
   },
   "source": [
    "# Obtain data source\n",
    "- Use Pandas\n",
    " - dataframe\n",
    " - read csv file\n",
    " - process dataframe\n",
    "- an exercise with NGSIM data set\n",
    " - **using api**"
   ]
  },
  {
   "cell_type": "code",
   "execution_count": 45,
   "metadata": {
    "slideshow": {
     "slide_type": "skip"
    }
   },
   "outputs": [
    {
     "name": "stderr",
     "output_type": "stream",
     "text": [
      "WARNING:root:Requests made without an app_token will be subject to strict throttling limits.\n"
     ]
    }
   ],
   "source": [
    "# import the package\n",
    "import pandas as pd\n",
    "from sodapy import Socrata\n",
    "\n",
    "# connect to the servr\n",
    "client = Socrata(\"data.transportation.gov\", None)\n",
    "\n",
    "# get the json-formatted data\n",
    "data_json = client.get(\"8ect-6jqj\", limit=2000) # limit 2000 column\n",
    "\n",
    "# convert the json to pandas dataframe\n",
    "data_pd = pd.DataFrame.from_records(data_json)"
   ]
  },
  {
   "cell_type": "code",
   "execution_count": 48,
   "metadata": {
    "slideshow": {
     "slide_type": "skip"
    }
   },
   "outputs": [
    {
     "data": {
      "text/plain": [
       "Index(['d_zone', 'direction', 'following', 'frame_id', 'global_time',\n",
       "       'global_x', 'global_y', 'int_id', 'lane_id', 'local_x', 'local_y',\n",
       "       'location', 'movement', 'o_zone', 'preceding', 'section_id',\n",
       "       'space_headway', 'time_headway', 'total_frames', 'v_acc', 'v_class',\n",
       "       'v_length', 'v_vel', 'v_width', 'vehicle_id'],\n",
       "      dtype='object')"
      ]
     },
     "execution_count": 48,
     "metadata": {},
     "output_type": "execute_result"
    }
   ],
   "source": [
    "data_pd.columns"
   ]
  },
  {
   "cell_type": "markdown",
   "metadata": {
    "slideshow": {
     "slide_type": "slide"
    }
   },
   "source": [
    "# Visualization\n",
    "- Matplotlib.pyplot"
   ]
  },
  {
   "cell_type": "markdown",
   "metadata": {
    "slideshow": {
     "slide_type": "slide"
    }
   },
   "source": [
    "# Visualization\n",
    "- Matplotlib.pyplot\n",
    " - **plot a line**"
   ]
  },
  {
   "cell_type": "code",
   "execution_count": 58,
   "metadata": {
    "slideshow": {
     "slide_type": "-"
    }
   },
   "outputs": [
    {
     "data": {
      "text/plain": [
       "[<matplotlib.lines.Line2D at 0x1c324153da0>]"
      ]
     },
     "execution_count": 58,
     "metadata": {},
     "output_type": "execute_result"
    },
    {
     "data": {
      "image/png": "[encoded data removed]",
      "text/plain": [
       "<Figure size 432x432 with 1 Axes>"
      ]
     },
     "metadata": {
      "needs_background": "light"
     },
     "output_type": "display_data"
    }
   ],
   "source": [
    "%matplotlib inline\n",
    "import matplotlib.pyplot as plt\n",
    "a = [1,2,3,4]\n",
    "b = [1,2,3,4]\n",
    "plt.figure(figsize = (6,6))\n",
    "plt.xlabel('x',fontsize = 16)\n",
    "plt.ylabel('y',fontsize = 16)\n",
    "plt.xticks(fontsize = 16)\n",
    "plt.yticks(fontsize = 16)\n",
    "plt.title('example_plot_line', fontsize = 16)\n",
    "plt.plot(a,b)"
   ]
  },
  {
   "cell_type": "markdown",
   "metadata": {
    "slideshow": {
     "slide_type": "slide"
    }
   },
   "source": [
    "# Visualization\n",
    "- Matplotlib.pyplot\n",
    " - plot a line\n",
    " - **plot scatter**"
   ]
  },
  {
   "cell_type": "code",
   "execution_count": 12,
   "metadata": {
    "slideshow": {
     "slide_type": "-"
    }
   },
   "outputs": [
    {
     "data": {
      "text/plain": [
       "<matplotlib.collections.PathCollection at 0x1c3227846d8>"
      ]
     },
     "execution_count": 12,
     "metadata": {},
     "output_type": "execute_result"
    },
    {
     "data": {
      "image/png": "[encoded data removed]",
      "text/plain": [
       "<Figure size 432x288 with 1 Axes>"
      ]
     },
     "metadata": {
      "needs_background": "light"
     },
     "output_type": "display_data"
    }
   ],
   "source": [
    "a = [1,2,3,4]\n",
    "b = [1,2,3,4]\n",
    "plt.figure()\n",
    "\n",
    "plt.xlabel('x',fontsize = 16)\n",
    "plt.ylabel('y',fontsize = 16)\n",
    "plt.xticks(fontsize = 16)\n",
    "plt.yticks(fontsize = 16)\n",
    "plt.title('example_plot_scatter', fontsize = 16)\n",
    "\n",
    "plt.scatter(a,b, s=400, edgecolor = 'r', facecolor = 'b')"
   ]
  },
  {
   "cell_type": "markdown",
   "metadata": {
    "slideshow": {
     "slide_type": "slide"
    }
   },
   "source": [
    "# Visualization\n",
    "- Matplotlib.pyplot\n",
    " - plot a line\n",
    " - plot scatter\n",
    " - **shapefile**"
   ]
  },
  {
   "cell_type": "code",
   "execution_count": 14,
   "metadata": {
    "slideshow": {
     "slide_type": "skip"
    }
   },
   "outputs": [],
   "source": [
    "# test the shapefile\n",
    "# try the new code of plotting\n",
    "#import seaborn as sns\n",
    "import shapefile\n",
    "\n",
    "# load the shape file of the Beijing Road\n",
    "#shapefile_path = r'C:\\Users\\Zhaobin\\Desktop\\Didi\\Git\\visualization\\time series\\MichiganStateRoads_v17a'\n",
    "file = shapefile.Reader('roads.shp')\n",
    "\n",
    "l = file.records()\n",
    "L = list(set([x[3] for x in l]))"
   ]
  },
  {
   "cell_type": "code",
   "execution_count": 15,
   "metadata": {
    "slideshow": {
     "slide_type": "skip"
    }
   },
   "outputs": [
    {
     "name": "stdout",
     "output_type": "stream",
     "text": [
      "10000\n",
      "20000\n",
      "30000\n",
      "40000\n",
      "50000\n"
     ]
    }
   ],
   "source": [
    "# filter the shapefile\n",
    "\n",
    "min_shapeLat = min([x[1] for x in file.shapeRecords()[0].shape.points])\n",
    "max_shapeLat = max([x[1] for x in file.shapeRecords()[0].shape.points])\n",
    "min_shapeLng = min([x[0] for x in file.shapeRecords()[0].shape.points])\n",
    "max_shapeLng = max([x[0] for x in file.shapeRecords()[0].shape.points])\n",
    "n = 0\n",
    "l_shape = []\n",
    "for shapeRecord in file.shapeRecords():\n",
    "    n = n+1\n",
    "    if n%10000 == 0:\n",
    "        print(n)\n",
    "    isPrimary = shapeRecord.record[3] in [ 'motorway', 'primary', 'trunk']  # motorway: have sixth ring\n",
    "    #isInBox = (min([x[1] for x in shapeRecord.shape.points]) >= min_lat) & (max([x[1] for x in shapeRecord.shape.points]) <= max_lat) & (min([x[0] for x in shapeRecord.shape.points]) >= min_lng) & (max([x[0] for x in shapeRecord.shape.points]) <= max_lng) \n",
    "    if isPrimary: #& isInBox:\n",
    "        l_shape.append(shapeRecord)\n",
    "        min_shapeLat = min(min([x[1] for x in shapeRecord.shape.points]), min_shapeLat)\n",
    "        max_shapeLat = max(max([x[1] for x in shapeRecord.shape.points]), max_shapeLat)\n",
    "        min_shapeLng = min(min([x[0] for x in shapeRecord.shape.points]), min_shapeLng)\n",
    "        max_shapeLng = max(max([x[0] for x in shapeRecord.shape.points]), max_shapeLng)"
   ]
  },
  {
   "cell_type": "code",
   "execution_count": 33,
   "metadata": {
    "slideshow": {
     "slide_type": "skip"
    }
   },
   "outputs": [
    {
     "data": {
      "text/plain": [
       "False"
      ]
     },
     "execution_count": 33,
     "metadata": {},
     "output_type": "execute_result"
    }
   ],
   "source": [
    "(max(lng)<=min_shapeLng)"
   ]
  },
  {
   "cell_type": "code",
   "execution_count": 39,
   "metadata": {
    "slideshow": {
     "slide_type": "skip"
    }
   },
   "outputs": [
    {
     "data": {
      "text/plain": [
       "[39.7387756, 39.7421829, 39.7452062]"
      ]
     },
     "execution_count": 39,
     "metadata": {},
     "output_type": "execute_result"
    }
   ],
   "source": [
    "lat"
   ]
  },
  {
   "cell_type": "code",
   "execution_count": 36,
   "metadata": {
    "slideshow": {
     "slide_type": "slide"
    }
   },
   "outputs": [
    {
     "data": {
      "image/png": "[encoded data removed]",
      "text/plain": [
       "<Figure size 720x720 with 1 Axes>"
      ]
     },
     "metadata": {
      "needs_background": "light"
     },
     "output_type": "display_data"
    }
   ],
   "source": [
    "# plot the shapefile\n",
    "import matplotlib.gridspec\n",
    "import pandas as pd\n",
    "import matplotlib.pyplot as plt\n",
    "\n",
    "# plot the shapefile\n",
    "fig = plt.figure(frameon=False) \n",
    "fig.set_size_inches(10,10)\n",
    "ax1=plt.subplot(1,1,1,facecolor='#191919')\n",
    "\n",
    "for shpR in l_shape:\n",
    "    lat = [x[1] for x in shpR.shape.points]\n",
    "    lng = [x[0] for x in shpR.shape.points]\n",
    "    if (max(lat)<=max_shapeLat) & (min(lat)>=min_shapeLat) & (max(lng)<=max_shapeLng) & (min(lng) >= min_shapeLng):\n",
    "        ax1.plot(lng,lat,Linewidth = 0.5, color = 'w')\n",
    "    else:\n",
    "        pass"
   ]
  },
  {
   "cell_type": "markdown",
   "metadata": {
    "slideshow": {
     "slide_type": "slide"
    }
   },
   "source": [
    "# Visualization\n",
    "- Matplotlib.pyplot\n",
    " - plot a line\n",
    " - plot scatter\n",
    " - shapefile\n",
    " - **gmplot**"
   ]
  },
  {
   "cell_type": "code",
   "execution_count": 43,
   "metadata": {
    "slideshow": {
     "slide_type": "-"
    }
   },
   "outputs": [],
   "source": [
    "# plot google map\n",
    "import gmplot\n",
    "\n",
    "lng = [116.4312013, 116.430035, 116.4292286]\n",
    "lat = [39.7387756, 39.7421829, 39.7452062]\n",
    "\n",
    "import gmplot\n",
    "\n",
    "gmap = gmplot.GoogleMapPlotter(39.7387756, 116.4312013,13)\n",
    "\n",
    "gmap.plot(lat, lng, 'cornflowerblue', edge_width=10)\n",
    "\n",
    "gmap.draw(\"mymap.html\")"
   ]
  },
  {
   "cell_type": "markdown",
   "metadata": {
    "slideshow": {
     "slide_type": "slide"
    }
   },
   "source": [
    "# Google Distance Matrix API"
   ]
  }
 ],
 "metadata": {
  "celltoolbar": "Slideshow",
  "kernelspec": {
   "display_name": "Python 3",
   "language": "python",
   "name": "python3"
  },
  "language_info": {
   "codemirror_mode": {
    "name": "ipython",
    "version": 3
   },
   "file_extension": ".py",
   "mimetype": "text/x-python",
   "name": "python",
   "nbconvert_exporter": "python",
   "pygments_lexer": "ipython3",
   "version": "3.6.4"
  },
  "rise": {
   "auto_select": "none",
   "scroll": true,
   "transition": "none"
  }
 },
 "nbformat": 4,
 "nbformat_minor": 2
}
