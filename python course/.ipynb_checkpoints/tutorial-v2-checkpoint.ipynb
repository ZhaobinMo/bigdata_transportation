{
 "cells": [
  {
   "cell_type": "markdown",
   "metadata": {
    "slideshow": {
     "slide_type": "notes"
    }
   },
   "source": [
    "## 1st class\n",
    "1. Installation\n",
    "2. Basic usage\n",
    "  - data type \n",
    "  - int, float, string, typeof()\n",
    "  - usage of string\n",
    "  - list and its usage\n",
    "3. Read data (Padas DataFrame)\n",
    "4. Matplotlib\n",
    "  - structure of the fig: axes, fig, tick, ticklabel\n",
    "\n",
    "## 2nd class\n",
    "1. Function\n",
    "2. shapefile\n",
    "3. **Detail about pandas**\n",
    "4. Api\n",
    "  - google, sodapy (json)\n",
    "  - use request and url to access data"
   ]
  },
  {
   "cell_type": "markdown",
   "metadata": {
    "slideshow": {
     "slide_type": "slide"
    }
   },
   "source": [
    "# Tutorial about use of python\n",
    "## 02/06/2019"
   ]
  },
  {
   "cell_type": "markdown",
   "metadata": {
    "slideshow": {
     "slide_type": "slide"
    }
   },
   "source": [
    "# Topics\n",
    "1. Installation and basic useage\n",
    "2. Obtain data source\n",
    "3. Data visualization\n",
    "4. Useful tools (Google Distance Matrix API)"
   ]
  },
  {
   "cell_type": "markdown",
   "metadata": {
    "slideshow": {
     "slide_type": "slide"
    }
   },
   "source": [
    "# Installation\n",
    "<center>\n",
    "<img src=\"anaconda.png\" width = \"1000px\">\n",
    "</center>"
   ]
  },
  {
   "cell_type": "markdown",
   "metadata": {
    "slideshow": {
     "slide_type": "slide"
    }
   },
   "source": [
    "# Installation\n",
    "<center>\n",
    "<img src=\"anaconda_2.png\" width = \"80%\">\n",
    "</center>"
   ]
  },
  {
   "cell_type": "markdown",
   "metadata": {
    "slideshow": {
     "slide_type": "slide"
    }
   },
   "source": [
    "# Installation\n",
    "<center>\n",
    "<img src=\"anaconda_3.png\" width = \"50%\">\n",
    "</center>"
   ]
  },
  {
   "cell_type": "markdown",
   "metadata": {
    "slideshow": {
     "slide_type": "slide"
    }
   },
   "source": [
    "# Installation\n",
    "<center>\n",
    "<img src=\"ex_jupyter.png\" width = \"50%\">\n",
    "</center>"
   ]
  },
  {
   "cell_type": "markdown",
   "metadata": {
    "slideshow": {
     "slide_type": "slide"
    }
   },
   "source": [
    "# Basic Usage\n",
    "- Hello World"
   ]
  },
  {
   "cell_type": "markdown",
   "metadata": {},
   "source": [
    "  - using the command line\n",
    "  - run a script\n",
    "  - run in the IDE (integral development editor)"
   ]
  },
  {
   "cell_type": "code",
   "execution_count": 6,
   "metadata": {
    "slideshow": {
     "slide_type": "fragment"
    }
   },
   "outputs": [
    {
     "name": "stdout",
     "output_type": "stream",
     "text": [
      "Hello World\n"
     ]
    }
   ],
   "source": [
    "print(\"Hello World\")"
   ]
  },
  {
   "cell_type": "markdown",
   "metadata": {
    "slideshow": {
     "slide_type": "fragment"
    }
   },
   "source": [
    "Some command for IDE\n",
    "- Ctrl+Enter: run the current cell \n",
    "- Shift+Enter: run the current cell, and select the next cell \n",
    "- Alt+Enter: run the current cell, and add an cell below \n",
    "\n",
    "(press esc to enter from the **edit mode** to the **command mode**)\n",
    "- b: insert a cell below\n",
    "- a: insert a cell above\n",
    "- dd: delete the selected cell"
   ]
  },
  {
   "cell_type": "markdown",
   "metadata": {
    "slideshow": {
     "slide_type": "slide"
    }
   },
   "source": [
    "# Basic Usage\n",
    "- Three numeric data type\n",
    "  - **int**\n",
    "  - **float**\n",
    "  - complex"
   ]
  },
  {
   "cell_type": "code",
   "execution_count": 8,
   "metadata": {},
   "outputs": [
    {
     "name": "stdout",
     "output_type": "stream",
     "text": [
      "<class 'int'>\n"
     ]
    }
   ],
   "source": [
    "print(type(a))"
   ]
  },
  {
   "cell_type": "code",
   "execution_count": 7,
   "metadata": {
    "slideshow": {
     "slide_type": "-"
    }
   },
   "outputs": [],
   "source": [
    "a = 1\n",
    "b = 1.1\n",
    "c = 1j"
   ]
  },
  {
   "cell_type": "markdown",
   "metadata": {},
   "source": [
    "Basic Usage\n",
    "- String"
   ]
  },
  {
   "cell_type": "code",
   "execution_count": 12,
   "metadata": {},
   "outputs": [
    {
     "name": "stdout",
     "output_type": "stream",
     "text": [
      "CIEN 4930 is awesome\n"
     ]
    }
   ],
   "source": [
    "s = \"{} {} is awesome\".format(\"CIEN\",\"4930\")\n",
    "print(s)"
   ]
  },
  {
   "cell_type": "markdown",
   "metadata": {
    "slideshow": {
     "slide_type": "slide"
    }
   },
   "source": [
    "# Basic Usage\n",
    "- list"
   ]
  },
  {
   "cell_type": "code",
   "execution_count": 2,
   "metadata": {},
   "outputs": [],
   "source": [
    "l = [1,2,'s',3]"
   ]
  },
  {
   "cell_type": "code",
   "execution_count": 21,
   "metadata": {},
   "outputs": [
    {
     "data": {
      "text/plain": [
       "range(0, 2)"
      ]
     },
     "execution_count": 21,
     "metadata": {},
     "output_type": "execute_result"
    }
   ],
   "source": [
    "range(0,2)"
   ]
  },
  {
   "cell_type": "code",
   "execution_count": 30,
   "metadata": {},
   "outputs": [
    {
     "data": {
      "text/plain": [
       "1"
      ]
     },
     "execution_count": 30,
     "metadata": {},
     "output_type": "execute_result"
    }
   ],
   "source": [
    "# the first element\n",
    "l[0]"
   ]
  },
  {
   "cell_type": "code",
   "execution_count": 33,
   "metadata": {},
   "outputs": [
    {
     "data": {
      "text/plain": [
       "3"
      ]
     },
     "execution_count": 33,
     "metadata": {},
     "output_type": "execute_result"
    }
   ],
   "source": [
    "# last element\n",
    "l[-1]"
   ]
  },
  {
   "cell_type": "markdown",
   "metadata": {},
   "source": [
    "# Basic Usage\n",
    "- 'for' loop"
   ]
  },
  {
   "cell_type": "code",
   "execution_count": 38,
   "metadata": {},
   "outputs": [
    {
     "name": "stdout",
     "output_type": "stream",
     "text": [
      "1\n",
      "2\n",
      "s\n",
      "3\n"
     ]
    }
   ],
   "source": [
    "# print every element in the l\n",
    "n = 0\n",
    "for n in range(0,3+1):\n",
    "    pass\n",
    "#    print(l[n])\n",
    "\n",
    "# a new method\n",
    "for item in l:\n",
    "    print(item)"
   ]
  },
  {
   "cell_type": "markdown",
   "metadata": {},
   "source": [
    "# Basic Usage\n",
    "- if...else"
   ]
  },
  {
   "cell_type": "code",
   "execution_count": 40,
   "metadata": {},
   "outputs": [],
   "source": [
    "a = 1"
   ]
  },
  {
   "cell_type": "code",
   "execution_count": 41,
   "metadata": {},
   "outputs": [
    {
     "name": "stdout",
     "output_type": "stream",
     "text": [
      "0<=a<=1\n"
     ]
    }
   ],
   "source": [
    "if a > 1:\n",
    "    print(\"a>1\")\n",
    "elif a<0:\n",
    "    print(\"a<0\")\n",
    "else:\n",
    "    print(\"0<=a<=1\")"
   ]
  },
  {
   "cell_type": "code",
   "execution_count": null,
   "metadata": {},
   "outputs": [],
   "source": []
  },
  {
   "cell_type": "markdown",
   "metadata": {
    "slideshow": {
     "slide_type": "-"
    }
   },
   "source": [
    "# Basic Usage\n",
    "- ditc"
   ]
  },
  {
   "cell_type": "code",
   "execution_count": 42,
   "metadata": {},
   "outputs": [],
   "source": [
    "l = [18, 19, 20,21]\n",
    "\n",
    "# people's age\n",
    "D = {\"Bob\":l[0],\n",
    "    \"Tim\": l[1],\n",
    "    \"Tom\": l[2],\n",
    "    \"Zoe\": l[3]}"
   ]
  },
  {
   "cell_type": "code",
   "execution_count": 44,
   "metadata": {},
   "outputs": [
    {
     "data": {
      "text/plain": [
       "18"
      ]
     },
     "execution_count": 44,
     "metadata": {},
     "output_type": "execute_result"
    }
   ],
   "source": [
    "D[\"Bob\"]"
   ]
  },
  {
   "cell_type": "markdown",
   "metadata": {
    "slideshow": {
     "slide_type": "slide"
    }
   },
   "source": [
    "# Basic Usage\n",
    "- ditc"
   ]
  },
  {
   "cell_type": "code",
   "execution_count": 29,
   "metadata": {
    "slideshow": {
     "slide_type": "-"
    }
   },
   "outputs": [
    {
     "name": "stdout",
     "output_type": "stream",
     "text": [
      "16\n"
     ]
    }
   ],
   "source": [
    "D = {\"Bob\":16, \n",
    "    \"Tom\":17,\n",
    "    \"Jenny\":38}\n",
    "\n",
    "print(D['Bob'])"
   ]
  },
  {
   "cell_type": "markdown",
   "metadata": {
    "slideshow": {
     "slide_type": "skip"
    }
   },
   "source": [
    "# Obtain data source\n",
    "- Type of data: txt, excel, csv, json, SQL...\n",
    "<center>\n",
    "<img src=\"ex_ngsim_csv.png\" >\n",
    "</center>"
   ]
  },
  {
   "cell_type": "markdown",
   "metadata": {
    "slideshow": {
     "slide_type": "slide"
    }
   },
   "source": [
    "# Load Data\n",
    "- Type of data: txt, **csv**, json, SQL..."
   ]
  },
  {
   "cell_type": "markdown",
   "metadata": {
    "slideshow": {
     "slide_type": "fragment"
    }
   },
   "source": [
    "- Method for loading data\n",
    "  - pandas"
   ]
  },
  {
   "cell_type": "markdown",
   "metadata": {
    "slideshow": {
     "slide_type": "slide"
    }
   },
   "source": [
    "- Install Pandas\n",
    " - **Install by pip** \n",
    "```console\n",
    "$ pip install pandas\n",
    "```\n",
    "\n",
    "  - Install by conda\n",
    "```console\n",
    "$ conda install pandas\n",
    "```\n",
    " \n"
   ]
  },
  {
   "cell_type": "markdown",
   "metadata": {
    "slideshow": {
     "slide_type": "slide"
    }
   },
   "source": [
    "<center>\n",
    "    <img src=\"result_pip_install_pandas.png\" >\n",
    "</center>"
   ]
  },
  {
   "cell_type": "markdown",
   "metadata": {
    "slideshow": {
     "slide_type": "slide"
    }
   },
   "source": [
    "# Load Data\n",
    "- Use Pandas\n",
    " - read csv file"
   ]
  },
  {
   "cell_type": "code",
   "execution_count": 2,
   "metadata": {
    "slideshow": {
     "slide_type": "notes"
    }
   },
   "outputs": [
    {
     "data": {
      "text/html": [
       "<div>\n",
       "<style scoped>\n",
       "    .dataframe tbody tr th:only-of-type {\n",
       "        vertical-align: middle;\n",
       "    }\n",
       "\n",
       "    .dataframe tbody tr th {\n",
       "        vertical-align: top;\n",
       "    }\n",
       "\n",
       "    .dataframe thead th {\n",
       "        text-align: right;\n",
       "    }\n",
       "</style>\n",
       "<table border=\"1\" class=\"dataframe\">\n",
       "  <thead>\n",
       "    <tr style=\"text-align: right;\">\n",
       "      <th></th>\n",
       "      <th>user_id</th>\n",
       "      <th>car_id</th>\n",
       "    </tr>\n",
       "  </thead>\n",
       "  <tbody>\n",
       "    <tr>\n",
       "      <th>0</th>\n",
       "      <td>9</td>\n",
       "      <td>8</td>\n",
       "    </tr>\n",
       "    <tr>\n",
       "      <th>1</th>\n",
       "      <td>15</td>\n",
       "      <td>398</td>\n",
       "    </tr>\n",
       "    <tr>\n",
       "      <th>2</th>\n",
       "      <td>15</td>\n",
       "      <td>275</td>\n",
       "    </tr>\n",
       "  </tbody>\n",
       "</table>\n",
       "</div>"
      ],
      "text/plain": [
       "   user_id  car_id\n",
       "0        9       8\n",
       "1       15     398\n",
       "2       15     275"
      ]
     },
     "execution_count": 2,
     "metadata": {},
     "output_type": "execute_result"
    }
   ],
   "source": [
    "# import the package\n",
    "# pd: the alias for pandas\n",
    "# os: in-built package \"operate system\"\n",
    "import pandas as pd\n",
    "import os\n",
    "\n",
    "# name the path\n",
    "# 'r' before the path: \n",
    "     # https://stackoverflow.com/questions/33729045/what-does-an-r-represent-before-a-string-in-python\n",
    "DIR_DATA = r\"C:\\Users\\Zhaobin\\Desktop\\Columbia\\courses\\2019 Spring\\bigdata\\python course\\data\"\n",
    "DIR_RESULT = r\"C:\\Users\\Zhaobin\\Desktop\\Columbia\\courses\\2019 Spring\\bigdata\\python course\\result\"\n",
    "\n",
    "# read the data\n",
    "filename = \"user_car.csv\"\n",
    "path_in = DIR_DATA + \"\\\\\" + filename\n",
    "#print(path_in)\n",
    "df = pd.read_csv(path_in)\n",
    "df.head(3)\n"
   ]
  },
  {
   "cell_type": "code",
   "execution_count": 3,
   "metadata": {
    "slideshow": {
     "slide_type": "-"
    }
   },
   "outputs": [],
   "source": [
    "# 1st import the package\n",
    "import pandas as pd"
   ]
  },
  {
   "cell_type": "code",
   "execution_count": 50,
   "metadata": {},
   "outputs": [],
   "source": [
    "# 2nd load the data\n",
    "# df: dataframe (min unit of data\n",
    "# structure)\n",
    "df = pd.read_csv(r'C:\\Users\\Zhaobin\\Desktop\\Columbia\\courses\\2019 Spring\\bigdata\\python course\\display\\test_read_data')"
   ]
  },
  {
   "cell_type": "code",
   "execution_count": 54,
   "metadata": {},
   "outputs": [
    {
     "data": {
      "text/plain": [
       "0    1\n",
       "1    2\n",
       "2    3\n",
       "3    4\n",
       "Name: user_id, dtype: int64"
      ]
     },
     "execution_count": 54,
     "metadata": {},
     "output_type": "execute_result"
    }
   ],
   "source": [
    "# 3rd display the general info.\n",
    "# dataframe(structured data + function)\n",
    "df['user_id']"
   ]
  },
  {
   "cell_type": "markdown",
   "metadata": {},
   "source": [
    "- Use Pandas\n",
    " - read csv file\n",
    " - **dataframe**\n",
    "   - introduction"
   ]
  },
  {
   "cell_type": "code",
   "execution_count": null,
   "metadata": {},
   "outputs": [],
   "source": [
    "# dataframe, series"
   ]
  },
  {
   "cell_type": "markdown",
   "metadata": {
    "slideshow": {
     "slide_type": "notes"
    }
   },
   "source": [
    "- Use Pandas\n",
    " - dataframe\n",
    " - read csv file\n",
    " - **process dataframe**"
   ]
  },
  {
   "cell_type": "code",
   "execution_count": 5,
   "metadata": {
    "slideshow": {
     "slide_type": "notes"
    }
   },
   "outputs": [
    {
     "data": {
      "text/html": [
       "<div>\n",
       "<style scoped>\n",
       "    .dataframe tbody tr th:only-of-type {\n",
       "        vertical-align: middle;\n",
       "    }\n",
       "\n",
       "    .dataframe tbody tr th {\n",
       "        vertical-align: top;\n",
       "    }\n",
       "\n",
       "    .dataframe thead th {\n",
       "        text-align: right;\n",
       "    }\n",
       "</style>\n",
       "<table border=\"1\" class=\"dataframe\">\n",
       "  <thead>\n",
       "    <tr style=\"text-align: right;\">\n",
       "      <th></th>\n",
       "      <th>user_id</th>\n",
       "      <th>car_id</th>\n",
       "    </tr>\n",
       "  </thead>\n",
       "  <tbody>\n",
       "    <tr>\n",
       "      <th>0</th>\n",
       "      <td>9.0</td>\n",
       "      <td>8</td>\n",
       "    </tr>\n",
       "    <tr>\n",
       "      <th>1</th>\n",
       "      <td>15.0</td>\n",
       "      <td>398</td>\n",
       "    </tr>\n",
       "    <tr>\n",
       "      <th>2</th>\n",
       "      <td>15.0</td>\n",
       "      <td>275</td>\n",
       "    </tr>\n",
       "  </tbody>\n",
       "</table>\n",
       "</div>"
      ],
      "text/plain": [
       "   user_id  car_id\n",
       "0      9.0       8\n",
       "1     15.0     398\n",
       "2     15.0     275"
      ]
     },
     "execution_count": 5,
     "metadata": {},
     "output_type": "execute_result"
    }
   ],
   "source": [
    "# change data type\n",
    "df.user_id = df.user_id.astype(float)\n",
    "df.head(3)"
   ]
  },
  {
   "cell_type": "code",
   "execution_count": 18,
   "metadata": {
    "slideshow": {
     "slide_type": "notes"
    }
   },
   "outputs": [
    {
     "data": {
      "text/html": [
       "<div>\n",
       "<style scoped>\n",
       "    .dataframe tbody tr th:only-of-type {\n",
       "        vertical-align: middle;\n",
       "    }\n",
       "\n",
       "    .dataframe tbody tr th {\n",
       "        vertical-align: top;\n",
       "    }\n",
       "\n",
       "    .dataframe thead th {\n",
       "        text-align: right;\n",
       "    }\n",
       "</style>\n",
       "<table border=\"1\" class=\"dataframe\">\n",
       "  <thead>\n",
       "    <tr style=\"text-align: right;\">\n",
       "      <th></th>\n",
       "      <th>user_id</th>\n",
       "      <th>car_id</th>\n",
       "    </tr>\n",
       "  </thead>\n",
       "  <tbody>\n",
       "    <tr>\n",
       "      <th>707</th>\n",
       "      <td>11</td>\n",
       "      <td>3643</td>\n",
       "    </tr>\n",
       "    <tr>\n",
       "      <th>43655</th>\n",
       "      <td>14</td>\n",
       "      <td>493</td>\n",
       "    </tr>\n",
       "    <tr>\n",
       "      <th>43656</th>\n",
       "      <td>14</td>\n",
       "      <td>1179</td>\n",
       "    </tr>\n",
       "    <tr>\n",
       "      <th>45203</th>\n",
       "      <td>14</td>\n",
       "      <td>5537</td>\n",
       "    </tr>\n",
       "    <tr>\n",
       "      <th>45284</th>\n",
       "      <td>14</td>\n",
       "      <td>3683</td>\n",
       "    </tr>\n",
       "  </tbody>\n",
       "</table>\n",
       "</div>"
      ],
      "text/plain": [
       "       user_id  car_id\n",
       "707         11    3643\n",
       "43655       14     493\n",
       "43656       14    1179\n",
       "45203       14    5537\n",
       "45284       14    3683"
      ]
     },
     "execution_count": 18,
     "metadata": {},
     "output_type": "execute_result"
    }
   ],
   "source": [
    "# data sorting\n",
    "#df.user_id = df.user_id.astype(int)\n",
    "#condition = df.user_id <= 10\n",
    "#df_0to10 = df.loc[condition, :]\n",
    "#df_0to10.head()\n",
    "\n",
    "\n",
    "condition_1 = df.user_id >10\n",
    "condition_2 = df.user_id <15\n",
    "df_10to15 = df.loc[condition_1&condition_2, :]\n",
    "df_10to15.head()"
   ]
  },
  {
   "cell_type": "code",
   "execution_count": 15,
   "metadata": {
    "slideshow": {
     "slide_type": "notes"
    }
   },
   "outputs": [
    {
     "data": {
      "text/html": [
       "<div>\n",
       "<style scoped>\n",
       "    .dataframe tbody tr th:only-of-type {\n",
       "        vertical-align: middle;\n",
       "    }\n",
       "\n",
       "    .dataframe tbody tr th {\n",
       "        vertical-align: top;\n",
       "    }\n",
       "\n",
       "    .dataframe thead th {\n",
       "        text-align: right;\n",
       "    }\n",
       "</style>\n",
       "<table border=\"1\" class=\"dataframe\">\n",
       "  <thead>\n",
       "    <tr style=\"text-align: right;\">\n",
       "      <th></th>\n",
       "      <th>user_id</th>\n",
       "      <th>car_id</th>\n",
       "    </tr>\n",
       "  </thead>\n",
       "  <tbody>\n",
       "    <tr>\n",
       "      <th>0</th>\n",
       "      <td>9</td>\n",
       "      <td>8</td>\n",
       "    </tr>\n",
       "    <tr>\n",
       "      <th>69</th>\n",
       "      <td>10</td>\n",
       "      <td>4369</td>\n",
       "    </tr>\n",
       "    <tr>\n",
       "      <th>249</th>\n",
       "      <td>9</td>\n",
       "      <td>653</td>\n",
       "    </tr>\n",
       "    <tr>\n",
       "      <th>451</th>\n",
       "      <td>9</td>\n",
       "      <td>1582</td>\n",
       "    </tr>\n",
       "    <tr>\n",
       "      <th>634</th>\n",
       "      <td>7</td>\n",
       "      <td>10</td>\n",
       "    </tr>\n",
       "  </tbody>\n",
       "</table>\n",
       "</div>"
      ],
      "text/plain": [
       "     user_id  car_id\n",
       "0          9       8\n",
       "69        10    4369\n",
       "249        9     653\n",
       "451        9    1582\n",
       "634        7      10"
      ]
     },
     "execution_count": 15,
     "metadata": {},
     "output_type": "execute_result"
    }
   ],
   "source": [
    "df.user_id = df.user_id.astype(int)\n",
    "condition = df.user_id <= 10\n",
    "df_0to10 = df.loc[condition, :]\n",
    "df_0to10.head()"
   ]
  },
  {
   "cell_type": "markdown",
   "metadata": {},
   "source": [
    "- Use Pandas\n",
    " - read csv file\n",
    " - **dataframe**\n",
    "   - introduction\n",
    "   - create a dataframe"
   ]
  },
  {
   "cell_type": "markdown",
   "metadata": {},
   "source": [
    "- Use Pandas\n",
    " - read csv file\n",
    " - dataframe\n",
    " - export dataframe"
   ]
  },
  {
   "cell_type": "code",
   "execution_count": null,
   "metadata": {},
   "outputs": [],
   "source": []
  },
  {
   "cell_type": "code",
   "execution_count": 28,
   "metadata": {
    "slideshow": {
     "slide_type": "slide"
    }
   },
   "outputs": [],
   "source": [
    "# export the data\n",
    "folder_name = \"ID_small_10\"\n",
    "filename = \"id_small_10.csv\"\n",
    "path_out = DIR_RESULT + \"\\\\\" + folder_name\n",
    "path_out = path_out + \"\\\\\" + foler_name + \"\\\\\" + filename\n",
    "\n",
    "df_0to10.to_csv(path_out, index = False)"
   ]
  },
  {
   "cell_type": "markdown",
   "metadata": {
    "slideshow": {
     "slide_type": "slide"
    }
   },
   "source": [
    "# Visualization\n",
    "- Matplotlib.pyplot"
   ]
  },
  {
   "cell_type": "markdown",
   "metadata": {
    "slideshow": {
     "slide_type": "fragment"
    }
   },
   "source": [
    " - **plot a line**"
   ]
  },
  {
   "cell_type": "code",
   "execution_count": null,
   "metadata": {},
   "outputs": [],
   "source": [
    "# task: line y = x"
   ]
  },
  {
   "cell_type": "code",
   "execution_count": null,
   "metadata": {},
   "outputs": [],
   "source": []
  },
  {
   "cell_type": "code",
   "execution_count": 58,
   "metadata": {
    "slideshow": {
     "slide_type": "notes"
    }
   },
   "outputs": [
    {
     "data": {
      "text/plain": [
       "[<matplotlib.lines.Line2D at 0x1c324153da0>]"
      ]
     },
     "execution_count": 58,
     "metadata": {},
     "output_type": "execute_result"
    },
    {
     "data": {
      "image/png": "[encoded data removed]",
      "text/plain": [
       "<Figure size 432x432 with 1 Axes>"
      ]
     },
     "metadata": {
      "needs_background": "light"
     },
     "output_type": "display_data"
    }
   ],
   "source": [
    "# task plot y = x\n",
    "import matplotlib.pyplot as plt\n",
    "a = [1,2,3,4]\n",
    "b = [1,2,3,4]\n",
    "plt.figure(figsize = (6,6))\n",
    "plt.xlabel('x',fontsize = 16)\n",
    "plt.ylabel('y',fontsize = 16)\n",
    "plt.xticks(fontsize = 16)\n",
    "plt.yticks(fontsize = 16)\n",
    "plt.title('example_plot_line', fontsize = 16)\n",
    "plt.plot(a,b)"
   ]
  },
  {
   "cell_type": "markdown",
   "metadata": {
    "slideshow": {
     "slide_type": "slide"
    }
   },
   "source": [
    "<center>\n",
    "    <img src=\"python_essay.png\" >\n",
    "</center>"
   ]
  },
  {
   "cell_type": "markdown",
   "metadata": {
    "slideshow": {
     "slide_type": "slide"
    }
   },
   "source": [
    "# Visualization\n",
    "- Matplotlib.pyplot\n",
    " - plot a line\n",
    " - **plot scatter**"
   ]
  },
  {
   "cell_type": "code",
   "execution_count": 5,
   "metadata": {},
   "outputs": [],
   "source": [
    "# plot the point (1,1) (2,2)"
   ]
  },
  {
   "cell_type": "code",
   "execution_count": null,
   "metadata": {},
   "outputs": [],
   "source": []
  },
  {
   "cell_type": "code",
   "execution_count": null,
   "metadata": {},
   "outputs": [],
   "source": []
  },
  {
   "cell_type": "code",
   "execution_count": 12,
   "metadata": {
    "slideshow": {
     "slide_type": "notes"
    }
   },
   "outputs": [
    {
     "data": {
      "text/plain": [
       "<matplotlib.collections.PathCollection at 0x1c3227846d8>"
      ]
     },
     "execution_count": 12,
     "metadata": {},
     "output_type": "execute_result"
    },
    {
     "data": {
      "image/png": "[encoded data removed]",
      "text/plain": [
       "<Figure size 432x288 with 1 Axes>"
      ]
     },
     "metadata": {
      "needs_background": "light"
     },
     "output_type": "display_data"
    }
   ],
   "source": [
    "a = [1,2,3,4]\n",
    "b = [1,2,3,4]\n",
    "plt.figure()\n",
    "\n",
    "plt.xlabel('x',fontsize = 16)\n",
    "plt.ylabel('y',fontsize = 16)\n",
    "plt.xticks(fontsize = 16)\n",
    "plt.yticks(fontsize = 16)\n",
    "plt.title('example_plot_scatter', fontsize = 16)\n",
    "\n",
    "plt.scatter(a,b, s=400, edgecolor = 'r', facecolor = 'b')"
   ]
  },
  {
   "cell_type": "markdown",
   "metadata": {
    "slideshow": {
     "slide_type": "slide"
    }
   },
   "source": [
    "# Visualization\n",
    "- Matplotlib.pyplot\n",
    " - plot a line\n",
    " - plot scatter\n",
    " - **gmplot**"
   ]
  },
  {
   "cell_type": "code",
   "execution_count": 43,
   "metadata": {
    "slideshow": {
     "slide_type": "slide"
    }
   },
   "outputs": [],
   "source": [
    "# plot google map\n",
    "import gmplot\n",
    "\n",
    "lng = [-73.960411, -73.964831, -73.960497]\n",
    "lat = [40.808614, 40.806697, 40.805723]\n",
    "\n",
    "import gmplot\n",
    "\n",
    "gmap = gmplot.GoogleMapPlotter(39.7387756, 116.4312013,13)\n",
    "\n",
    "gmap.plot(lat, lng, 'cornflowerblue', edge_width=10)\n",
    "\n",
    "gmap.draw(\"mymap.html\")"
   ]
  },
  {
   "cell_type": "markdown",
   "metadata": {},
   "source": [
    "# Visualization\n",
    "- Matplotlib.pyplot\n",
    " - plot a line\n",
    " - plot scatter\n",
    " - **gmplot**\n",
    "   - a task on NGSIM data"
   ]
  },
  {
   "cell_type": "code",
   "execution_count": 21,
   "metadata": {},
   "outputs": [],
   "source": [
    "import pandas as pd\n",
    "df = pd.read_csv(r\"C:\\Users\\Zhaobin\\Desktop\\Columbia\\NGSIM\\Git\\NGSIM\\data_fix_latlon\\traUs101Gap01s_lane3_rvUnitId_rvLatLon.csv\")\n"
   ]
  },
  {
   "cell_type": "code",
   "execution_count": 9,
   "metadata": {},
   "outputs": [
    {
     "data": {
      "text/html": [
       "<div>\n",
       "<style scoped>\n",
       "    .dataframe tbody tr th:only-of-type {\n",
       "        vertical-align: middle;\n",
       "    }\n",
       "\n",
       "    .dataframe tbody tr th {\n",
       "        vertical-align: top;\n",
       "    }\n",
       "\n",
       "    .dataframe thead th {\n",
       "        text-align: right;\n",
       "    }\n",
       "</style>\n",
       "<table border=\"1\" class=\"dataframe\">\n",
       "  <thead>\n",
       "    <tr style=\"text-align: right;\">\n",
       "      <th></th>\n",
       "      <th>unit_id</th>\n",
       "      <th>vehicle_id</th>\n",
       "      <th>global_time</th>\n",
       "      <th>date_time</th>\n",
       "      <th>t_diff</th>\n",
       "      <th>latitude</th>\n",
       "      <th>longitude</th>\n",
       "      <th>local_y</th>\n",
       "      <th>v_vel</th>\n",
       "      <th>v_class</th>\n",
       "      <th>lane_id</th>\n",
       "      <th>frame_id</th>\n",
       "      <th>total_frames</th>\n",
       "      <th>location</th>\n",
       "    </tr>\n",
       "  </thead>\n",
       "  <tbody>\n",
       "    <tr>\n",
       "      <th>0</th>\n",
       "      <td>1</td>\n",
       "      <td>2</td>\n",
       "      <td>1118847864800</td>\n",
       "      <td>2005-06-15 08:04:24</td>\n",
       "      <td>885.1</td>\n",
       "      <td>38.642582</td>\n",
       "      <td>-118.386129</td>\n",
       "      <td>25.870205</td>\n",
       "      <td>10.213634</td>\n",
       "      <td>2</td>\n",
       "      <td>4</td>\n",
       "      <td>228</td>\n",
       "      <td>634</td>\n",
       "      <td>us-101</td>\n",
       "    </tr>\n",
       "    <tr>\n",
       "      <th>1</th>\n",
       "      <td>1</td>\n",
       "      <td>2</td>\n",
       "      <td>1118847864900</td>\n",
       "      <td>2005-06-15 08:04:24</td>\n",
       "      <td>885.2</td>\n",
       "      <td>38.642579</td>\n",
       "      <td>-118.386125</td>\n",
       "      <td>26.327405</td>\n",
       "      <td>10.213634</td>\n",
       "      <td>2</td>\n",
       "      <td>4</td>\n",
       "      <td>229</td>\n",
       "      <td>634</td>\n",
       "      <td>us-101</td>\n",
       "    </tr>\n",
       "    <tr>\n",
       "      <th>2</th>\n",
       "      <td>1</td>\n",
       "      <td>2</td>\n",
       "      <td>1118847865000</td>\n",
       "      <td>2005-06-15 08:04:25</td>\n",
       "      <td>885.3</td>\n",
       "      <td>38.642576</td>\n",
       "      <td>-118.386122</td>\n",
       "      <td>26.784300</td>\n",
       "      <td>10.213634</td>\n",
       "      <td>2</td>\n",
       "      <td>4</td>\n",
       "      <td>230</td>\n",
       "      <td>634</td>\n",
       "      <td>us-101</td>\n",
       "    </tr>\n",
       "    <tr>\n",
       "      <th>3</th>\n",
       "      <td>1</td>\n",
       "      <td>2</td>\n",
       "      <td>1118847865100</td>\n",
       "      <td>2005-06-15 08:04:25</td>\n",
       "      <td>885.4</td>\n",
       "      <td>38.642573</td>\n",
       "      <td>-118.386118</td>\n",
       "      <td>27.241805</td>\n",
       "      <td>10.213634</td>\n",
       "      <td>2</td>\n",
       "      <td>4</td>\n",
       "      <td>231</td>\n",
       "      <td>634</td>\n",
       "      <td>us-101</td>\n",
       "    </tr>\n",
       "    <tr>\n",
       "      <th>4</th>\n",
       "      <td>1</td>\n",
       "      <td>2</td>\n",
       "      <td>1118847865200</td>\n",
       "      <td>2005-06-15 08:04:25</td>\n",
       "      <td>885.5</td>\n",
       "      <td>38.642570</td>\n",
       "      <td>-118.386115</td>\n",
       "      <td>27.699005</td>\n",
       "      <td>10.213634</td>\n",
       "      <td>2</td>\n",
       "      <td>4</td>\n",
       "      <td>232</td>\n",
       "      <td>634</td>\n",
       "      <td>us-101</td>\n",
       "    </tr>\n",
       "  </tbody>\n",
       "</table>\n",
       "</div>"
      ],
      "text/plain": [
       "   unit_id  vehicle_id    global_time            date_time  t_diff   latitude  \\\n",
       "0        1           2  1118847864800  2005-06-15 08:04:24   885.1  38.642582   \n",
       "1        1           2  1118847864900  2005-06-15 08:04:24   885.2  38.642579   \n",
       "2        1           2  1118847865000  2005-06-15 08:04:25   885.3  38.642576   \n",
       "3        1           2  1118847865100  2005-06-15 08:04:25   885.4  38.642573   \n",
       "4        1           2  1118847865200  2005-06-15 08:04:25   885.5  38.642570   \n",
       "\n",
       "    longitude    local_y      v_vel  v_class  lane_id  frame_id  total_frames  \\\n",
       "0 -118.386129  25.870205  10.213634        2        4       228           634   \n",
       "1 -118.386125  26.327405  10.213634        2        4       229           634   \n",
       "2 -118.386122  26.784300  10.213634        2        4       230           634   \n",
       "3 -118.386118  27.241805  10.213634        2        4       231           634   \n",
       "4 -118.386115  27.699005  10.213634        2        4       232           634   \n",
       "\n",
       "  location  \n",
       "0   us-101  \n",
       "1   us-101  \n",
       "2   us-101  \n",
       "3   us-101  \n",
       "4   us-101  "
      ]
     },
     "execution_count": 9,
     "metadata": {},
     "output_type": "execute_result"
    }
   ],
   "source": [
    "df.head()"
   ]
  },
  {
   "cell_type": "code",
   "execution_count": 22,
   "metadata": {},
   "outputs": [],
   "source": [
    "del(df['unit_id'], df['t_diff'], df['local_y'], df['v_vel'], df['v_class'], df['frame_id'], df['total_frames'])"
   ]
  },
  {
   "cell_type": "code",
   "execution_count": 23,
   "metadata": {},
   "outputs": [],
   "source": [
    "df_1 = df[df.global_time == 1118847864800]\n"
   ]
  },
  {
   "cell_type": "code",
   "execution_count": 25,
   "metadata": {},
   "outputs": [],
   "source": [
    "df_1.to_csv(\"NGSIM_data_sample.csv\", index = False)"
   ]
  },
  {
   "cell_type": "code",
   "execution_count": 26,
   "metadata": {},
   "outputs": [],
   "source": [
    "df = pd.read_csv(\"NGSIM_data_sample.csv\")"
   ]
  },
  {
   "cell_type": "code",
   "execution_count": 27,
   "metadata": {},
   "outputs": [],
   "source": [
    "lat = df.latitude.tolist()\n",
    "lng = df.longitude.tolist()"
   ]
  },
  {
   "cell_type": "code",
   "execution_count": 28,
   "metadata": {},
   "outputs": [
    {
     "data": {
      "text/plain": [
       "[34.13940642875617,\n",
       " 34.13586415798798,\n",
       " 34.136392519353365,\n",
       " 34.136535070085486,\n",
       " 34.13679880030628,\n",
       " 34.136895111140596,\n",
       " 34.13720005396885,\n",
       " 34.137471181518634,\n",
       " 34.13734521349439,\n",
       " 34.1376688675042,\n",
       " 34.13779496946512,\n",
       " 34.137955589664365,\n",
       " 34.138118942285125,\n",
       " 34.13827193952877,\n",
       " 34.138363056197484,\n",
       " 34.13846697554146,\n",
       " 34.1385700695929,\n",
       " 34.138689717378604,\n",
       " 34.138769339977856,\n",
       " 34.13885600968574,\n",
       " 34.13893799540443,\n",
       " 34.1390833359288,\n",
       " 34.139171657864736,\n",
       " 34.139243202992944,\n",
       " 34.13930096312789,\n",
       " 34.13940088504459]"
      ]
     },
     "execution_count": 28,
     "metadata": {},
     "output_type": "execute_result"
    }
   ],
   "source": [
    "lat"
   ]
  },
  {
   "cell_type": "code",
   "execution_count": 36,
   "metadata": {},
   "outputs": [],
   "source": [
    "import gmplot\n",
    "\n",
    "gmap = gmplot.GoogleMapPlotter(lat[0], lng[0],13)\n",
    "\n",
    "gmap.scatter(lat, lng, 'blue', size=10, marker=False)\n",
    "\n",
    "gmap.draw(\"mymap.html\")"
   ]
  },
  {
   "cell_type": "markdown",
   "metadata": {},
   "source": [
    "https://github.com/vgm64/gmplot"
   ]
  },
  {
   "cell_type": "markdown",
   "metadata": {},
   "source": [
    "Pandas"
   ]
  },
  {
   "cell_type": "markdown",
   "metadata": {},
   "source": [
    "## 2nd class\n",
    "1. Function\n",
    "2. shapefile\n",
    "3. **Detail about pandas**\n",
    "4. Api\n",
    "  - google, sodapy (json)\n",
    "  - use request and url to access data"
   ]
  },
  {
   "cell_type": "markdown",
   "metadata": {},
   "source": [
    "# Pandas\n",
    "- change data type\n",
    "- series.apply\n",
    "- slice\n",
    "- join"
   ]
  }
 ],
 "metadata": {
  "celltoolbar": "Slideshow",
  "kernelspec": {
   "display_name": "Python 3",
   "language": "python",
   "name": "python3"
  },
  "language_info": {
   "codemirror_mode": {
    "name": "ipython",
    "version": 3
   },
   "file_extension": ".py",
   "mimetype": "text/x-python",
   "name": "python",
   "nbconvert_exporter": "python",
   "pygments_lexer": "ipython3",
   "version": "3.6.4"
  },
  "rise": {
   "auto_select": "none",
   "scroll": true,
   "transition": "none"
  }
 },
 "nbformat": 4,
 "nbformat_minor": 2
}
