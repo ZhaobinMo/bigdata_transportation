{
 "cells": [
  {
   "cell_type": "code",
   "execution_count": 10,
   "metadata": {},
   "outputs": [],
   "source": [
    "import pandas as pd\n",
    "path = r\"C:\\Users\\Zhaobin\\Desktop\\Didi\\Git\\data_output\\waiting_of_idle\\waiting_idle_20171109.csv\\waiting_idle_20171109.csv\""
   ]
  },
  {
   "cell_type": "code",
   "execution_count": 11,
   "metadata": {},
   "outputs": [],
   "source": [
    "df = pd.read_csv(path)\n"
   ]
  },
  {
   "cell_type": "code",
   "execution_count": 12,
   "metadata": {},
   "outputs": [
    {
     "data": {
      "text/html": [
       "<div>\n",
       "<style scoped>\n",
       "    .dataframe tbody tr th:only-of-type {\n",
       "        vertical-align: middle;\n",
       "    }\n",
       "\n",
       "    .dataframe tbody tr th {\n",
       "        vertical-align: top;\n",
       "    }\n",
       "\n",
       "    .dataframe thead th {\n",
       "        text-align: right;\n",
       "    }\n",
       "</style>\n",
       "<table border=\"1\" class=\"dataframe\">\n",
       "  <thead>\n",
       "    <tr style=\"text-align: right;\">\n",
       "      <th></th>\n",
       "      <th>phone</th>\n",
       "      <th>current_lng</th>\n",
       "      <th>current_lat</th>\n",
       "      <th>current_time</th>\n",
       "      <th>idle_id</th>\n",
       "      <th>time_diff</th>\n",
       "      <th>dist</th>\n",
       "      <th>waiting_id</th>\n",
       "    </tr>\n",
       "  </thead>\n",
       "  <tbody>\n",
       "    <tr>\n",
       "      <th>0</th>\n",
       "      <td>13001005365</td>\n",
       "      <td>116.417288</td>\n",
       "      <td>39.988092</td>\n",
       "      <td>2017-11-09 17:00:12</td>\n",
       "      <td>17597057422565</td>\n",
       "      <td>3.0</td>\n",
       "      <td>0.025164</td>\n",
       "      <td>1</td>\n",
       "    </tr>\n",
       "    <tr>\n",
       "      <th>1</th>\n",
       "      <td>13001005365</td>\n",
       "      <td>116.417288</td>\n",
       "      <td>39.988092</td>\n",
       "      <td>2017-11-09 17:00:15</td>\n",
       "      <td>17597057422565</td>\n",
       "      <td>3.0</td>\n",
       "      <td>0.006103</td>\n",
       "      <td>1</td>\n",
       "    </tr>\n",
       "    <tr>\n",
       "      <th>2</th>\n",
       "      <td>13001005365</td>\n",
       "      <td>116.417288</td>\n",
       "      <td>39.988092</td>\n",
       "      <td>2017-11-09 17:00:18</td>\n",
       "      <td>17597057422565</td>\n",
       "      <td>3.0</td>\n",
       "      <td>0.018923</td>\n",
       "      <td>1</td>\n",
       "    </tr>\n",
       "    <tr>\n",
       "      <th>3</th>\n",
       "      <td>13001005365</td>\n",
       "      <td>116.417288</td>\n",
       "      <td>39.988092</td>\n",
       "      <td>2017-11-09 17:00:21</td>\n",
       "      <td>17597057422565</td>\n",
       "      <td>3.0</td>\n",
       "      <td>0.019207</td>\n",
       "      <td>1</td>\n",
       "    </tr>\n",
       "    <tr>\n",
       "      <th>4</th>\n",
       "      <td>13001005365</td>\n",
       "      <td>116.417289</td>\n",
       "      <td>39.988092</td>\n",
       "      <td>2017-11-09 17:00:24</td>\n",
       "      <td>17597057422565</td>\n",
       "      <td>3.0</td>\n",
       "      <td>0.012963</td>\n",
       "      <td>1</td>\n",
       "    </tr>\n",
       "  </tbody>\n",
       "</table>\n",
       "</div>"
      ],
      "text/plain": [
       "         phone  current_lng  current_lat         current_time         idle_id  \\\n",
       "0  13001005365   116.417288    39.988092  2017-11-09 17:00:12  17597057422565   \n",
       "1  13001005365   116.417288    39.988092  2017-11-09 17:00:15  17597057422565   \n",
       "2  13001005365   116.417288    39.988092  2017-11-09 17:00:18  17597057422565   \n",
       "3  13001005365   116.417288    39.988092  2017-11-09 17:00:21  17597057422565   \n",
       "4  13001005365   116.417289    39.988092  2017-11-09 17:00:24  17597057422565   \n",
       "\n",
       "   time_diff      dist  waiting_id  \n",
       "0        3.0  0.025164           1  \n",
       "1        3.0  0.006103           1  \n",
       "2        3.0  0.018923           1  \n",
       "3        3.0  0.019207           1  \n",
       "4        3.0  0.012963           1  "
      ]
     },
     "execution_count": 12,
     "metadata": {},
     "output_type": "execute_result"
    }
   ],
   "source": [
    "df.head()"
   ]
  }
 ],
 "metadata": {
  "kernelspec": {
   "display_name": "Python 3",
   "language": "python",
   "name": "python3"
  },
  "language_info": {
   "codemirror_mode": {
    "name": "ipython",
    "version": 3
   },
   "file_extension": ".py",
   "mimetype": "text/x-python",
   "name": "python",
   "nbconvert_exporter": "python",
   "pygments_lexer": "ipython3",
   "version": "3.6.4"
  }
 },
 "nbformat": 4,
 "nbformat_minor": 2
}
